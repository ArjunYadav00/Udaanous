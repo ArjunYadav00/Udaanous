{
 "cells": [
  {
   "cell_type": "markdown",
   "id": "a677b3e1-1d6a-498a-a75f-7a473f2101c1",
   "metadata": {},
   "source": [
    "# Data Loading"
   ]
  },
  {
   "cell_type": "code",
   "execution_count": 1,
   "id": "389ddce3-f2a5-4d74-96cc-59c702a6b6fa",
   "metadata": {},
   "outputs": [],
   "source": [
    "import numpy as np\n",
    "import pandas as pd\n",
    "import seaborn as sns"
   ]
  },
  {
   "cell_type": "code",
   "execution_count": 2,
   "id": "763246d9-266a-4f06-b9dd-82170e74c315",
   "metadata": {},
   "outputs": [
    {
     "data": {
      "text/html": [
       "<div>\n",
       "<style scoped>\n",
       "    .dataframe tbody tr th:only-of-type {\n",
       "        vertical-align: middle;\n",
       "    }\n",
       "\n",
       "    .dataframe tbody tr th {\n",
       "        vertical-align: top;\n",
       "    }\n",
       "\n",
       "    .dataframe thead th {\n",
       "        text-align: right;\n",
       "    }\n",
       "</style>\n",
       "<table border=\"1\" class=\"dataframe\">\n",
       "  <thead>\n",
       "    <tr style=\"text-align: right;\">\n",
       "      <th></th>\n",
       "      <th>ID</th>\n",
       "      <th>Name</th>\n",
       "      <th>Age</th>\n",
       "      <th>Email</th>\n",
       "      <th>JoinDate</th>\n",
       "      <th>Salary</th>\n",
       "    </tr>\n",
       "  </thead>\n",
       "  <tbody>\n",
       "    <tr>\n",
       "      <th>0</th>\n",
       "      <td>1</td>\n",
       "      <td>Alice</td>\n",
       "      <td>25</td>\n",
       "      <td>alice@example.com</td>\n",
       "      <td>01-01-2020</td>\n",
       "      <td>50000</td>\n",
       "    </tr>\n",
       "    <tr>\n",
       "      <th>1</th>\n",
       "      <td>2</td>\n",
       "      <td>Bob</td>\n",
       "      <td>30</td>\n",
       "      <td>bob@example.com</td>\n",
       "      <td>not a date</td>\n",
       "      <td>60000</td>\n",
       "    </tr>\n",
       "    <tr>\n",
       "      <th>2</th>\n",
       "      <td>2</td>\n",
       "      <td>Bob</td>\n",
       "      <td>30</td>\n",
       "      <td>bob@example.com</td>\n",
       "      <td>01-02-2020</td>\n",
       "      <td>60000</td>\n",
       "    </tr>\n",
       "    <tr>\n",
       "      <th>3</th>\n",
       "      <td>4</td>\n",
       "      <td>Charlie</td>\n",
       "      <td>NaN</td>\n",
       "      <td>charlie@</td>\n",
       "      <td>01-03-2020</td>\n",
       "      <td>70000</td>\n",
       "    </tr>\n",
       "    <tr>\n",
       "      <th>4</th>\n",
       "      <td>5</td>\n",
       "      <td>David</td>\n",
       "      <td>Twenty-two</td>\n",
       "      <td>NaN</td>\n",
       "      <td>01-04-2020</td>\n",
       "      <td>NaN</td>\n",
       "    </tr>\n",
       "    <tr>\n",
       "      <th>5</th>\n",
       "      <td>6</td>\n",
       "      <td>Eve</td>\n",
       "      <td>45</td>\n",
       "      <td>eve@example</td>\n",
       "      <td>01-05-2020</td>\n",
       "      <td>90000</td>\n",
       "    </tr>\n",
       "    <tr>\n",
       "      <th>6</th>\n",
       "      <td>7</td>\n",
       "      <td>Frank</td>\n",
       "      <td>50</td>\n",
       "      <td>frank@@example.com</td>\n",
       "      <td>01-06-2020</td>\n",
       "      <td>100000</td>\n",
       "    </tr>\n",
       "    <tr>\n",
       "      <th>7</th>\n",
       "      <td>8</td>\n",
       "      <td>Grace</td>\n",
       "      <td>55</td>\n",
       "      <td>grace@example.com</td>\n",
       "      <td>01-07-2020</td>\n",
       "      <td>one lakh</td>\n",
       "    </tr>\n",
       "    <tr>\n",
       "      <th>8</th>\n",
       "      <td>nine</td>\n",
       "      <td>Heidi</td>\n",
       "      <td>60</td>\n",
       "      <td>heidi@example.com</td>\n",
       "      <td>2020.08.01</td>\n",
       "      <td>120000</td>\n",
       "    </tr>\n",
       "    <tr>\n",
       "      <th>9</th>\n",
       "      <td>10</td>\n",
       "      <td>NaN</td>\n",
       "      <td>65</td>\n",
       "      <td>10@example.com</td>\n",
       "      <td>01-09-2020</td>\n",
       "      <td>130000</td>\n",
       "    </tr>\n",
       "  </tbody>\n",
       "</table>\n",
       "</div>"
      ],
      "text/plain": [
       "     ID     Name         Age               Email    JoinDate    Salary\n",
       "0     1    Alice          25   alice@example.com  01-01-2020     50000\n",
       "1     2      Bob          30     bob@example.com  not a date     60000\n",
       "2     2      Bob          30     bob@example.com  01-02-2020     60000\n",
       "3     4  Charlie         NaN            charlie@  01-03-2020     70000\n",
       "4     5    David  Twenty-two                 NaN  01-04-2020       NaN\n",
       "5     6      Eve          45         eve@example  01-05-2020     90000\n",
       "6     7    Frank          50  frank@@example.com  01-06-2020    100000\n",
       "7     8    Grace          55   grace@example.com  01-07-2020  one lakh\n",
       "8  nine    Heidi          60   heidi@example.com  2020.08.01    120000\n",
       "9    10      NaN          65      10@example.com  01-09-2020    130000"
      ]
     },
     "execution_count": 2,
     "metadata": {},
     "output_type": "execute_result"
    }
   ],
   "source": [
    "data = pd.read_csv('messy_data set.csv')\n",
    "data"
   ]
  },
  {
   "cell_type": "markdown",
   "id": "116bfebf-0551-4815-b67e-c8231e5c6030",
   "metadata": {},
   "source": [
    "# Identifying Missing Value"
   ]
  },
  {
   "cell_type": "code",
   "execution_count": 3,
   "id": "497bb2fe-96ce-485d-9b5d-04412cc91fa6",
   "metadata": {},
   "outputs": [
    {
     "name": "stdout",
     "output_type": "stream",
     "text": [
      "Missing_data:\n"
     ]
    },
    {
     "data": {
      "text/plain": [
       "ID          0\n",
       "Name        1\n",
       "Age         1\n",
       "Email       1\n",
       "JoinDate    0\n",
       "Salary      1\n",
       "dtype: int64"
      ]
     },
     "execution_count": 3,
     "metadata": {},
     "output_type": "execute_result"
    }
   ],
   "source": [
    "missing_data = data.isnull().sum()\n",
    "print('Missing_data:')\n",
    "missing_data"
   ]
  },
  {
   "cell_type": "markdown",
   "id": "4dd61753-9047-4a6d-9f15-77de9a74a377",
   "metadata": {},
   "source": [
    "# Checking DataTypes"
   ]
  },
  {
   "cell_type": "code",
   "execution_count": 4,
   "id": "155cf2df-666e-4eb9-9204-1a3096d971b7",
   "metadata": {},
   "outputs": [
    {
     "data": {
      "text/plain": [
       "ID          object\n",
       "Name        object\n",
       "Age         object\n",
       "Email       object\n",
       "JoinDate    object\n",
       "Salary      object\n",
       "dtype: object"
      ]
     },
     "execution_count": 4,
     "metadata": {},
     "output_type": "execute_result"
    }
   ],
   "source": [
    "data.dtypes"
   ]
  },
  {
   "cell_type": "markdown",
   "id": "9910b17d-5407-4675-9092-5095ee19dfbe",
   "metadata": {},
   "source": [
    "# Assigning DataTypes"
   ]
  },
  {
   "cell_type": "code",
   "execution_count": 8,
   "id": "8053cba8-5d8e-4db8-8d0c-c13a197d28dd",
   "metadata": {},
   "outputs": [],
   "source": [
    "data = data.replace('Twenty-two',22)"
   ]
  },
  {
   "cell_type": "code",
   "execution_count": 10,
   "id": "82d616d9-c029-4e01-b63c-ea22889e8f37",
   "metadata": {},
   "outputs": [],
   "source": [
    "data['Age'] = data['Age'].astype(float)"
   ]
  },
  {
   "cell_type": "code",
   "execution_count": 11,
   "id": "978b013a-e15f-4848-ba18-30758d9fe32a",
   "metadata": {},
   "outputs": [],
   "source": [
    "data = data.replace('one lakh',100000)"
   ]
  },
  {
   "cell_type": "code",
   "execution_count": 12,
   "id": "c7e5fffb-cd16-4dfa-acd6-3924805e9f40",
   "metadata": {},
   "outputs": [],
   "source": [
    "data['Salary'] = data['Salary'].astype(float)"
   ]
  },
  {
   "cell_type": "code",
   "execution_count": 13,
   "id": "8a8f72b6-7ade-417a-82da-b39f0eb7c5e3",
   "metadata": {},
   "outputs": [
    {
     "data": {
      "text/html": [
       "<div>\n",
       "<style scoped>\n",
       "    .dataframe tbody tr th:only-of-type {\n",
       "        vertical-align: middle;\n",
       "    }\n",
       "\n",
       "    .dataframe tbody tr th {\n",
       "        vertical-align: top;\n",
       "    }\n",
       "\n",
       "    .dataframe thead th {\n",
       "        text-align: right;\n",
       "    }\n",
       "</style>\n",
       "<table border=\"1\" class=\"dataframe\">\n",
       "  <thead>\n",
       "    <tr style=\"text-align: right;\">\n",
       "      <th></th>\n",
       "      <th>ID</th>\n",
       "      <th>Name</th>\n",
       "      <th>Age</th>\n",
       "      <th>Email</th>\n",
       "      <th>JoinDate</th>\n",
       "      <th>Salary</th>\n",
       "    </tr>\n",
       "  </thead>\n",
       "  <tbody>\n",
       "    <tr>\n",
       "      <th>0</th>\n",
       "      <td>1</td>\n",
       "      <td>Alice</td>\n",
       "      <td>25.0</td>\n",
       "      <td>alice@example.com</td>\n",
       "      <td>01-01-2020</td>\n",
       "      <td>50000.0</td>\n",
       "    </tr>\n",
       "    <tr>\n",
       "      <th>1</th>\n",
       "      <td>2</td>\n",
       "      <td>Bob</td>\n",
       "      <td>30.0</td>\n",
       "      <td>bob@example.com</td>\n",
       "      <td>not a date</td>\n",
       "      <td>60000.0</td>\n",
       "    </tr>\n",
       "    <tr>\n",
       "      <th>2</th>\n",
       "      <td>2</td>\n",
       "      <td>Bob</td>\n",
       "      <td>30.0</td>\n",
       "      <td>bob@example.com</td>\n",
       "      <td>01-02-2020</td>\n",
       "      <td>60000.0</td>\n",
       "    </tr>\n",
       "    <tr>\n",
       "      <th>3</th>\n",
       "      <td>4</td>\n",
       "      <td>Charlie</td>\n",
       "      <td>NaN</td>\n",
       "      <td>charlie@</td>\n",
       "      <td>01-03-2020</td>\n",
       "      <td>70000.0</td>\n",
       "    </tr>\n",
       "    <tr>\n",
       "      <th>4</th>\n",
       "      <td>5</td>\n",
       "      <td>David</td>\n",
       "      <td>22.0</td>\n",
       "      <td>NaN</td>\n",
       "      <td>01-04-2020</td>\n",
       "      <td>NaN</td>\n",
       "    </tr>\n",
       "    <tr>\n",
       "      <th>5</th>\n",
       "      <td>6</td>\n",
       "      <td>Eve</td>\n",
       "      <td>45.0</td>\n",
       "      <td>eve@example</td>\n",
       "      <td>01-05-2020</td>\n",
       "      <td>90000.0</td>\n",
       "    </tr>\n",
       "    <tr>\n",
       "      <th>6</th>\n",
       "      <td>7</td>\n",
       "      <td>Frank</td>\n",
       "      <td>50.0</td>\n",
       "      <td>frank@@example.com</td>\n",
       "      <td>01-06-2020</td>\n",
       "      <td>100000.0</td>\n",
       "    </tr>\n",
       "    <tr>\n",
       "      <th>7</th>\n",
       "      <td>8</td>\n",
       "      <td>Grace</td>\n",
       "      <td>55.0</td>\n",
       "      <td>grace@example.com</td>\n",
       "      <td>01-07-2020</td>\n",
       "      <td>100000.0</td>\n",
       "    </tr>\n",
       "    <tr>\n",
       "      <th>8</th>\n",
       "      <td>nine</td>\n",
       "      <td>Heidi</td>\n",
       "      <td>60.0</td>\n",
       "      <td>heidi@example.com</td>\n",
       "      <td>2020.08.01</td>\n",
       "      <td>120000.0</td>\n",
       "    </tr>\n",
       "    <tr>\n",
       "      <th>9</th>\n",
       "      <td>10</td>\n",
       "      <td>NaN</td>\n",
       "      <td>65.0</td>\n",
       "      <td>10@example.com</td>\n",
       "      <td>01-09-2020</td>\n",
       "      <td>130000.0</td>\n",
       "    </tr>\n",
       "  </tbody>\n",
       "</table>\n",
       "</div>"
      ],
      "text/plain": [
       "     ID     Name   Age               Email    JoinDate    Salary\n",
       "0     1    Alice  25.0   alice@example.com  01-01-2020   50000.0\n",
       "1     2      Bob  30.0     bob@example.com  not a date   60000.0\n",
       "2     2      Bob  30.0     bob@example.com  01-02-2020   60000.0\n",
       "3     4  Charlie   NaN            charlie@  01-03-2020   70000.0\n",
       "4     5    David  22.0                 NaN  01-04-2020       NaN\n",
       "5     6      Eve  45.0         eve@example  01-05-2020   90000.0\n",
       "6     7    Frank  50.0  frank@@example.com  01-06-2020  100000.0\n",
       "7     8    Grace  55.0   grace@example.com  01-07-2020  100000.0\n",
       "8  nine    Heidi  60.0   heidi@example.com  2020.08.01  120000.0\n",
       "9    10      NaN  65.0      10@example.com  01-09-2020  130000.0"
      ]
     },
     "execution_count": 13,
     "metadata": {},
     "output_type": "execute_result"
    }
   ],
   "source": [
    "data"
   ]
  },
  {
   "cell_type": "code",
   "execution_count": 14,
   "id": "272396f2-3925-4cae-b69f-345674d94db9",
   "metadata": {},
   "outputs": [],
   "source": [
    "data = data.replace('not a date',\"NaN\")"
   ]
  },
  {
   "cell_type": "code",
   "execution_count": 15,
   "id": "32cd1128-c0d6-4d5d-b8ae-bc8608412510",
   "metadata": {},
   "outputs": [],
   "source": [
    "data = data.replace('2020.08.01',\"NaN\")"
   ]
  },
  {
   "cell_type": "markdown",
   "id": "4079be28-2373-4fa5-b8cf-510f8ef486ca",
   "metadata": {},
   "source": [
    "# Imputing Missing Value"
   ]
  },
  {
   "cell_type": "raw",
   "id": "8e406da4-b92a-4306-a591-eaf50c921338",
   "metadata": {},
   "source": [
    "# Import SimpleImputer"
   ]
  },
  {
   "cell_type": "code",
   "execution_count": 16,
   "id": "74118dfb-887d-4f50-8321-b2c561d12fd1",
   "metadata": {},
   "outputs": [],
   "source": [
    "from sklearn.impute import SimpleImputer"
   ]
  },
  {
   "cell_type": "code",
   "execution_count": 17,
   "id": "b0a6df4e-89bc-41ae-91d0-f949226a4cf6",
   "metadata": {},
   "outputs": [],
   "source": [
    "imputer = SimpleImputer(strategy = 'mean')\n",
    "imputer.fit(data[['Age']])\n",
    "data[['Age']] = imputer.transform(data[['Age']])"
   ]
  },
  {
   "cell_type": "code",
   "execution_count": 18,
   "id": "794bb3f5-1a92-4fd0-a44c-5aef2ae64d7a",
   "metadata": {},
   "outputs": [],
   "source": [
    "imputer = SimpleImputer(strategy='most_frequent')\n",
    "imputer.fit(data[['JoinDate']])\n",
    "data[['JoinDate']] = imputer.transform(data[['JoinDate']]) "
   ]
  },
  {
   "cell_type": "code",
   "execution_count": 19,
   "id": "d2ddf9fc-3e1e-4724-9ad7-646ba8c564e7",
   "metadata": {},
   "outputs": [],
   "source": [
    "imputer = SimpleImputer(strategy = 'most_frequent')\n",
    "imputer.fit(data[['Email']])\n",
    "data [['Email']] = imputer.transform(data[['Email']])"
   ]
  },
  {
   "cell_type": "code",
   "execution_count": 20,
   "id": "709fb6f8-5eb3-4350-8667-4b2350a8634e",
   "metadata": {},
   "outputs": [],
   "source": [
    "imputer = SimpleImputer(strategy = 'most_frequent')\n",
    "imputer.fit(data[['Name']])\n",
    "data [['Name']] = imputer.transform(data[['Name']])"
   ]
  },
  {
   "cell_type": "code",
   "execution_count": 21,
   "id": "ca590437-33a4-465a-bce2-07631598cfd7",
   "metadata": {},
   "outputs": [],
   "source": [
    "data = data.replace('nine',9)"
   ]
  },
  {
   "cell_type": "code",
   "execution_count": 22,
   "id": "6c0e3aa3-b31c-4db8-ae61-895a93f6c586",
   "metadata": {},
   "outputs": [],
   "source": [
    "imputer = SimpleImputer(strategy='mean')\n",
    "imputer.fit(data[['Salary']])\n",
    "data[['Salary']] = imputer.transform(data[['Salary']])"
   ]
  },
  {
   "cell_type": "code",
   "execution_count": 23,
   "id": "7bb5f8ff-10ab-40a4-8a74-17581fefa921",
   "metadata": {},
   "outputs": [
    {
     "data": {
      "text/html": [
       "<div>\n",
       "<style scoped>\n",
       "    .dataframe tbody tr th:only-of-type {\n",
       "        vertical-align: middle;\n",
       "    }\n",
       "\n",
       "    .dataframe tbody tr th {\n",
       "        vertical-align: top;\n",
       "    }\n",
       "\n",
       "    .dataframe thead th {\n",
       "        text-align: right;\n",
       "    }\n",
       "</style>\n",
       "<table border=\"1\" class=\"dataframe\">\n",
       "  <thead>\n",
       "    <tr style=\"text-align: right;\">\n",
       "      <th></th>\n",
       "      <th>ID</th>\n",
       "      <th>Name</th>\n",
       "      <th>Age</th>\n",
       "      <th>Email</th>\n",
       "      <th>JoinDate</th>\n",
       "      <th>Salary</th>\n",
       "    </tr>\n",
       "  </thead>\n",
       "  <tbody>\n",
       "    <tr>\n",
       "      <th>0</th>\n",
       "      <td>1</td>\n",
       "      <td>Alice</td>\n",
       "      <td>25.000000</td>\n",
       "      <td>alice@example.com</td>\n",
       "      <td>01-01-2020</td>\n",
       "      <td>50000.000000</td>\n",
       "    </tr>\n",
       "    <tr>\n",
       "      <th>1</th>\n",
       "      <td>2</td>\n",
       "      <td>Bob</td>\n",
       "      <td>30.000000</td>\n",
       "      <td>bob@example.com</td>\n",
       "      <td>NaN</td>\n",
       "      <td>60000.000000</td>\n",
       "    </tr>\n",
       "    <tr>\n",
       "      <th>2</th>\n",
       "      <td>2</td>\n",
       "      <td>Bob</td>\n",
       "      <td>30.000000</td>\n",
       "      <td>bob@example.com</td>\n",
       "      <td>01-02-2020</td>\n",
       "      <td>60000.000000</td>\n",
       "    </tr>\n",
       "    <tr>\n",
       "      <th>3</th>\n",
       "      <td>4</td>\n",
       "      <td>Charlie</td>\n",
       "      <td>42.444444</td>\n",
       "      <td>charlie@</td>\n",
       "      <td>01-03-2020</td>\n",
       "      <td>70000.000000</td>\n",
       "    </tr>\n",
       "    <tr>\n",
       "      <th>4</th>\n",
       "      <td>5</td>\n",
       "      <td>David</td>\n",
       "      <td>22.000000</td>\n",
       "      <td>bob@example.com</td>\n",
       "      <td>01-04-2020</td>\n",
       "      <td>86666.666667</td>\n",
       "    </tr>\n",
       "    <tr>\n",
       "      <th>5</th>\n",
       "      <td>6</td>\n",
       "      <td>Eve</td>\n",
       "      <td>45.000000</td>\n",
       "      <td>eve@example</td>\n",
       "      <td>01-05-2020</td>\n",
       "      <td>90000.000000</td>\n",
       "    </tr>\n",
       "    <tr>\n",
       "      <th>6</th>\n",
       "      <td>7</td>\n",
       "      <td>Frank</td>\n",
       "      <td>50.000000</td>\n",
       "      <td>frank@@example.com</td>\n",
       "      <td>01-06-2020</td>\n",
       "      <td>100000.000000</td>\n",
       "    </tr>\n",
       "    <tr>\n",
       "      <th>7</th>\n",
       "      <td>8</td>\n",
       "      <td>Grace</td>\n",
       "      <td>55.000000</td>\n",
       "      <td>grace@example.com</td>\n",
       "      <td>01-07-2020</td>\n",
       "      <td>100000.000000</td>\n",
       "    </tr>\n",
       "    <tr>\n",
       "      <th>8</th>\n",
       "      <td>9</td>\n",
       "      <td>Heidi</td>\n",
       "      <td>60.000000</td>\n",
       "      <td>heidi@example.com</td>\n",
       "      <td>NaN</td>\n",
       "      <td>120000.000000</td>\n",
       "    </tr>\n",
       "    <tr>\n",
       "      <th>9</th>\n",
       "      <td>10</td>\n",
       "      <td>Bob</td>\n",
       "      <td>65.000000</td>\n",
       "      <td>10@example.com</td>\n",
       "      <td>01-09-2020</td>\n",
       "      <td>130000.000000</td>\n",
       "    </tr>\n",
       "  </tbody>\n",
       "</table>\n",
       "</div>"
      ],
      "text/plain": [
       "   ID     Name        Age               Email    JoinDate         Salary\n",
       "0   1    Alice  25.000000   alice@example.com  01-01-2020   50000.000000\n",
       "1   2      Bob  30.000000     bob@example.com         NaN   60000.000000\n",
       "2   2      Bob  30.000000     bob@example.com  01-02-2020   60000.000000\n",
       "3   4  Charlie  42.444444            charlie@  01-03-2020   70000.000000\n",
       "4   5    David  22.000000     bob@example.com  01-04-2020   86666.666667\n",
       "5   6      Eve  45.000000         eve@example  01-05-2020   90000.000000\n",
       "6   7    Frank  50.000000  frank@@example.com  01-06-2020  100000.000000\n",
       "7   8    Grace  55.000000   grace@example.com  01-07-2020  100000.000000\n",
       "8   9    Heidi  60.000000   heidi@example.com         NaN  120000.000000\n",
       "9  10      Bob  65.000000      10@example.com  01-09-2020  130000.000000"
      ]
     },
     "execution_count": 23,
     "metadata": {},
     "output_type": "execute_result"
    }
   ],
   "source": [
    "data"
   ]
  },
  {
   "cell_type": "code",
   "execution_count": 24,
   "id": "0cc8c745-421f-4b24-bbe9-63b748a615d7",
   "metadata": {},
   "outputs": [
    {
     "data": {
      "text/plain": [
       "ID           object\n",
       "Name         object\n",
       "Age         float64\n",
       "Email        object\n",
       "JoinDate     object\n",
       "Salary      float64\n",
       "dtype: object"
      ]
     },
     "execution_count": 24,
     "metadata": {},
     "output_type": "execute_result"
    }
   ],
   "source": [
    "data.dtypes"
   ]
  },
  {
   "cell_type": "code",
   "execution_count": 25,
   "id": "3d92474d-0066-40eb-949e-548e24f83f17",
   "metadata": {},
   "outputs": [],
   "source": [
    "# Assigning Datatypes\n",
    "data['JoinDate'] = pd.to_datetime(data['JoinDate'])"
   ]
  },
  {
   "cell_type": "code",
   "execution_count": 27,
   "id": "71be398c-6883-439e-bc2b-ff5eb2d3572a",
   "metadata": {},
   "outputs": [
    {
     "data": {
      "text/plain": [
       "ID                  object\n",
       "Name                object\n",
       "Age                float64\n",
       "Email               object\n",
       "JoinDate    datetime64[ns]\n",
       "Salary             float64\n",
       "dtype: object"
      ]
     },
     "execution_count": 27,
     "metadata": {},
     "output_type": "execute_result"
    }
   ],
   "source": [
    "data.dtypes"
   ]
  },
  {
   "cell_type": "code",
   "execution_count": 28,
   "id": "15356f37-a525-4a25-9d84-270969426b6c",
   "metadata": {},
   "outputs": [],
   "source": [
    "# Applying Filter_warning\n",
    "import warnings\n",
    "warnings.filterwarnings('ignore')"
   ]
  },
  {
   "cell_type": "code",
   "execution_count": 29,
   "id": "d3524889-14fb-4ed0-8624-f4f9cb0c0201",
   "metadata": {},
   "outputs": [],
   "source": [
    "data['JoinDate'] = data['JoinDate'].fillna(method=\"ffill\")"
   ]
  },
  {
   "cell_type": "code",
   "execution_count": 30,
   "id": "4573ed88-afc3-4f3d-b665-b64d1af7959e",
   "metadata": {},
   "outputs": [
    {
     "data": {
      "text/html": [
       "<div>\n",
       "<style scoped>\n",
       "    .dataframe tbody tr th:only-of-type {\n",
       "        vertical-align: middle;\n",
       "    }\n",
       "\n",
       "    .dataframe tbody tr th {\n",
       "        vertical-align: top;\n",
       "    }\n",
       "\n",
       "    .dataframe thead th {\n",
       "        text-align: right;\n",
       "    }\n",
       "</style>\n",
       "<table border=\"1\" class=\"dataframe\">\n",
       "  <thead>\n",
       "    <tr style=\"text-align: right;\">\n",
       "      <th></th>\n",
       "      <th>ID</th>\n",
       "      <th>Name</th>\n",
       "      <th>Age</th>\n",
       "      <th>Email</th>\n",
       "      <th>JoinDate</th>\n",
       "      <th>Salary</th>\n",
       "    </tr>\n",
       "  </thead>\n",
       "  <tbody>\n",
       "    <tr>\n",
       "      <th>0</th>\n",
       "      <td>1</td>\n",
       "      <td>Alice</td>\n",
       "      <td>25.000000</td>\n",
       "      <td>alice@example.com</td>\n",
       "      <td>2020-01-01</td>\n",
       "      <td>50000.000000</td>\n",
       "    </tr>\n",
       "    <tr>\n",
       "      <th>1</th>\n",
       "      <td>2</td>\n",
       "      <td>Bob</td>\n",
       "      <td>30.000000</td>\n",
       "      <td>bob@example.com</td>\n",
       "      <td>2020-01-01</td>\n",
       "      <td>60000.000000</td>\n",
       "    </tr>\n",
       "    <tr>\n",
       "      <th>2</th>\n",
       "      <td>2</td>\n",
       "      <td>Bob</td>\n",
       "      <td>30.000000</td>\n",
       "      <td>bob@example.com</td>\n",
       "      <td>2020-01-02</td>\n",
       "      <td>60000.000000</td>\n",
       "    </tr>\n",
       "    <tr>\n",
       "      <th>3</th>\n",
       "      <td>4</td>\n",
       "      <td>Charlie</td>\n",
       "      <td>42.444444</td>\n",
       "      <td>charlie@</td>\n",
       "      <td>2020-01-03</td>\n",
       "      <td>70000.000000</td>\n",
       "    </tr>\n",
       "    <tr>\n",
       "      <th>4</th>\n",
       "      <td>5</td>\n",
       "      <td>David</td>\n",
       "      <td>22.000000</td>\n",
       "      <td>bob@example.com</td>\n",
       "      <td>2020-01-04</td>\n",
       "      <td>86666.666667</td>\n",
       "    </tr>\n",
       "    <tr>\n",
       "      <th>5</th>\n",
       "      <td>6</td>\n",
       "      <td>Eve</td>\n",
       "      <td>45.000000</td>\n",
       "      <td>eve@example</td>\n",
       "      <td>2020-01-05</td>\n",
       "      <td>90000.000000</td>\n",
       "    </tr>\n",
       "    <tr>\n",
       "      <th>6</th>\n",
       "      <td>7</td>\n",
       "      <td>Frank</td>\n",
       "      <td>50.000000</td>\n",
       "      <td>frank@@example.com</td>\n",
       "      <td>2020-01-06</td>\n",
       "      <td>100000.000000</td>\n",
       "    </tr>\n",
       "    <tr>\n",
       "      <th>7</th>\n",
       "      <td>8</td>\n",
       "      <td>Grace</td>\n",
       "      <td>55.000000</td>\n",
       "      <td>grace@example.com</td>\n",
       "      <td>2020-01-07</td>\n",
       "      <td>100000.000000</td>\n",
       "    </tr>\n",
       "    <tr>\n",
       "      <th>8</th>\n",
       "      <td>9</td>\n",
       "      <td>Heidi</td>\n",
       "      <td>60.000000</td>\n",
       "      <td>heidi@example.com</td>\n",
       "      <td>2020-01-07</td>\n",
       "      <td>120000.000000</td>\n",
       "    </tr>\n",
       "    <tr>\n",
       "      <th>9</th>\n",
       "      <td>10</td>\n",
       "      <td>Bob</td>\n",
       "      <td>65.000000</td>\n",
       "      <td>10@example.com</td>\n",
       "      <td>2020-01-09</td>\n",
       "      <td>130000.000000</td>\n",
       "    </tr>\n",
       "  </tbody>\n",
       "</table>\n",
       "</div>"
      ],
      "text/plain": [
       "   ID     Name        Age               Email   JoinDate         Salary\n",
       "0   1    Alice  25.000000   alice@example.com 2020-01-01   50000.000000\n",
       "1   2      Bob  30.000000     bob@example.com 2020-01-01   60000.000000\n",
       "2   2      Bob  30.000000     bob@example.com 2020-01-02   60000.000000\n",
       "3   4  Charlie  42.444444            charlie@ 2020-01-03   70000.000000\n",
       "4   5    David  22.000000     bob@example.com 2020-01-04   86666.666667\n",
       "5   6      Eve  45.000000         eve@example 2020-01-05   90000.000000\n",
       "6   7    Frank  50.000000  frank@@example.com 2020-01-06  100000.000000\n",
       "7   8    Grace  55.000000   grace@example.com 2020-01-07  100000.000000\n",
       "8   9    Heidi  60.000000   heidi@example.com 2020-01-07  120000.000000\n",
       "9  10      Bob  65.000000      10@example.com 2020-01-09  130000.000000"
      ]
     },
     "execution_count": 30,
     "metadata": {},
     "output_type": "execute_result"
    }
   ],
   "source": [
    "data"
   ]
  },
  {
   "cell_type": "markdown",
   "id": "24ed830e-58a2-4cb9-92ee-c612b40183b7",
   "metadata": {},
   "source": [
    "# Removing Inconsistent Value"
   ]
  },
  {
   "cell_type": "code",
   "execution_count": 31,
   "id": "72268e9e-5af0-42c5-9037-52e178f146f4",
   "metadata": {},
   "outputs": [
    {
     "data": {
      "text/plain": [
       "array(['1', '2', '4', '5', '6', '7', '8', 9, '10'], dtype=object)"
      ]
     },
     "execution_count": 31,
     "metadata": {},
     "output_type": "execute_result"
    }
   ],
   "source": [
    "unique_value = data['ID'].unique()\n",
    "unique_value"
   ]
  },
  {
   "cell_type": "code",
   "execution_count": 32,
   "id": "c84a4b5c-2357-40b8-8bfb-9629140c0b4c",
   "metadata": {},
   "outputs": [
    {
     "data": {
      "text/plain": [
       "array(['alice@example.com', 'bob@example.com', 'charlie@', 'eve@example',\n",
       "       'frank@@example.com', 'grace@example.com', 'heidi@example.com',\n",
       "       '10@example.com'], dtype=object)"
      ]
     },
     "execution_count": 32,
     "metadata": {},
     "output_type": "execute_result"
    }
   ],
   "source": [
    "unique_value = data['Email'].unique()\n",
    "unique_value"
   ]
  },
  {
   "cell_type": "markdown",
   "id": "8ccb0bc2-41e8-4d2d-b9fb-904c96a78908",
   "metadata": {},
   "source": [
    "# Dealing With Duplicate Value"
   ]
  },
  {
   "cell_type": "code",
   "execution_count": 33,
   "id": "24639853-4755-4d47-9390-1f0b344a5e09",
   "metadata": {},
   "outputs": [
    {
     "data": {
      "text/html": [
       "<div>\n",
       "<style scoped>\n",
       "    .dataframe tbody tr th:only-of-type {\n",
       "        vertical-align: middle;\n",
       "    }\n",
       "\n",
       "    .dataframe tbody tr th {\n",
       "        vertical-align: top;\n",
       "    }\n",
       "\n",
       "    .dataframe thead th {\n",
       "        text-align: right;\n",
       "    }\n",
       "</style>\n",
       "<table border=\"1\" class=\"dataframe\">\n",
       "  <thead>\n",
       "    <tr style=\"text-align: right;\">\n",
       "      <th></th>\n",
       "      <th>ID</th>\n",
       "      <th>Name</th>\n",
       "      <th>Age</th>\n",
       "      <th>Email</th>\n",
       "      <th>JoinDate</th>\n",
       "      <th>Salary</th>\n",
       "    </tr>\n",
       "  </thead>\n",
       "  <tbody>\n",
       "  </tbody>\n",
       "</table>\n",
       "</div>"
      ],
      "text/plain": [
       "Empty DataFrame\n",
       "Columns: [ID, Name, Age, Email, JoinDate, Salary]\n",
       "Index: []"
      ]
     },
     "execution_count": 33,
     "metadata": {},
     "output_type": "execute_result"
    }
   ],
   "source": [
    "duplicates = data.duplicated()\n",
    "data[duplicates]"
   ]
  },
  {
   "cell_type": "code",
   "execution_count": 34,
   "id": "e68d98d1-9918-4486-aa71-ba93335fd148",
   "metadata": {},
   "outputs": [
    {
     "data": {
      "text/plain": [
       "0    False\n",
       "1    False\n",
       "2    False\n",
       "3    False\n",
       "4    False\n",
       "5    False\n",
       "6    False\n",
       "7    False\n",
       "8    False\n",
       "9    False\n",
       "dtype: bool"
      ]
     },
     "execution_count": 34,
     "metadata": {},
     "output_type": "execute_result"
    }
   ],
   "source": [
    "duplicates = data.duplicated()\n",
    "duplicates"
   ]
  },
  {
   "cell_type": "code",
   "execution_count": null,
   "id": "bea1cd7a-5866-4676-ab95-5f6bd1f52da4",
   "metadata": {},
   "outputs": [],
   "source": []
  }
 ],
 "metadata": {
  "kernelspec": {
   "display_name": "Python 3 (ipykernel)",
   "language": "python",
   "name": "python3"
  },
  "language_info": {
   "codemirror_mode": {
    "name": "ipython",
    "version": 3
   },
   "file_extension": ".py",
   "mimetype": "text/x-python",
   "name": "python",
   "nbconvert_exporter": "python",
   "pygments_lexer": "ipython3",
   "version": "3.12.7"
  }
 },
 "nbformat": 4,
 "nbformat_minor": 5
}
